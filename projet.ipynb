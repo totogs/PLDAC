{
 "cells": [
  {
   "cell_type": "markdown",
   "metadata": {},
   "source": [
    "### Librairies"
   ]
  },
  {
   "cell_type": "code",
   "execution_count": 1,
   "metadata": {
    "collapsed": true
   },
   "outputs": [],
   "source": [
    "import numpy as np \n",
    "import matplotlib.pyplot as plt\n",
    "import pandas as pd\n",
    "\n",
    "pd.options.display.max_columns = 999"
   ]
  },
  {
   "cell_type": "markdown",
   "metadata": {},
   "source": [
    "### Lecture des données"
   ]
  },
  {
   "cell_type": "code",
   "execution_count": 2,
   "metadata": {
    "collapsed": true
   },
   "outputs": [],
   "source": [
    "df_labels = pd.read_json ('deezer_data/album_genres_new_releases.json' , lines = True )\n",
    "df_data = pd.read_json ('deezer_data/sampled_geoloc_counters_new_releases.json' , lines = True )"
   ]
  },
  {
   "cell_type": "markdown",
   "metadata": {},
   "source": [
    "### Pré-traitement des données"
   ]
  },
  {
   "cell_type": "markdown",
   "metadata": {},
   "source": [
    "#### 1) Table Labels"
   ]
  },
  {
   "cell_type": "code",
   "execution_count": null,
   "metadata": {},
   "outputs": [
    {
     "data": {
      "text/html": [
       "<div>\n",
       "<style>\n",
       "    .dataframe thead tr:only-child th {\n",
       "        text-align: right;\n",
       "    }\n",
       "\n",
       "    .dataframe thead th {\n",
       "        text-align: left;\n",
       "    }\n",
       "\n",
       "    .dataframe tbody tr th {\n",
       "        vertical-align: top;\n",
       "    }\n",
       "</style>\n",
       "<table border=\"1\" class=\"dataframe\">\n",
       "  <thead>\n",
       "    <tr style=\"text-align: right;\">\n",
       "      <th></th>\n",
       "      <th>album_id</th>\n",
       "      <th>Afro Pop</th>\n",
       "      <th>Alternative</th>\n",
       "      <th>Blues</th>\n",
       "      <th>Chanson franÃ§aise</th>\n",
       "      <th>Chill Out/Trip-Hop/Lounge</th>\n",
       "      <th>Classique</th>\n",
       "      <th>ComÃ©dies musicales</th>\n",
       "      <th>Country</th>\n",
       "      <th>Dance</th>\n",
       "      <th>Dancehall/Ragga</th>\n",
       "      <th>Disco</th>\n",
       "      <th>Dub</th>\n",
       "      <th>East Coast</th>\n",
       "      <th>Electro</th>\n",
       "      <th>Electro Pop/Electro Rock</th>\n",
       "      <th>Films/Jeux vidÃ©o</th>\n",
       "      <th>Folk</th>\n",
       "      <th>Gospel</th>\n",
       "      <th>Hard Rock</th>\n",
       "      <th>Jazz</th>\n",
       "      <th>Jeunesse</th>\n",
       "      <th>Latino</th>\n",
       "      <th>Metal</th>\n",
       "      <th>Musique africaine</th>\n",
       "      <th>Musique arabe</th>\n",
       "      <th>Musique brÃ©silienne</th>\n",
       "      <th>Musique religieuse</th>\n",
       "      <th>Musiques de films</th>\n",
       "      <th>MÃºsica colombiana</th>\n",
       "      <th>OpÃ©ra</th>\n",
       "      <th>Pop</th>\n",
       "      <th>Pop IndÃ©</th>\n",
       "      <th>Pop indÃ©/Folk</th>\n",
       "      <th>Pop internationale</th>\n",
       "      <th>Pop latine</th>\n",
       "      <th>R&amp;B</th>\n",
       "      <th>Rap franÃ§ais</th>\n",
       "      <th>Rap/Hip Hop</th>\n",
       "      <th>Reggae</th>\n",
       "      <th>Rock</th>\n",
       "      <th>Rock &amp; Roll/Rockabilly</th>\n",
       "      <th>Rock franÃ§ais</th>\n",
       "      <th>Rock indÃ©</th>\n",
       "      <th>Singer &amp; Songwriter</th>\n",
       "      <th>Soul</th>\n",
       "      <th>Soul &amp; Funk</th>\n",
       "      <th>Sports</th>\n",
       "      <th>Techno/House</th>\n",
       "      <th>Trance</th>\n",
       "      <th>VariÃ©tÃ© Internationale</th>\n",
       "      <th>World</th>\n",
       "    </tr>\n",
       "  </thead>\n",
       "  <tbody>\n",
       "    <tr>\n",
       "      <th>0</th>\n",
       "      <td>13972552</td>\n",
       "      <td>0</td>\n",
       "      <td>0</td>\n",
       "      <td>0</td>\n",
       "      <td>0</td>\n",
       "      <td>0</td>\n",
       "      <td>0</td>\n",
       "      <td>0</td>\n",
       "      <td>0</td>\n",
       "      <td>1</td>\n",
       "      <td>0</td>\n",
       "      <td>0</td>\n",
       "      <td>0</td>\n",
       "      <td>0</td>\n",
       "      <td>0</td>\n",
       "      <td>0</td>\n",
       "      <td>0</td>\n",
       "      <td>0</td>\n",
       "      <td>0</td>\n",
       "      <td>0</td>\n",
       "      <td>0</td>\n",
       "      <td>0</td>\n",
       "      <td>0</td>\n",
       "      <td>0</td>\n",
       "      <td>0</td>\n",
       "      <td>0</td>\n",
       "      <td>0</td>\n",
       "      <td>0</td>\n",
       "      <td>0</td>\n",
       "      <td>0</td>\n",
       "      <td>0</td>\n",
       "      <td>0</td>\n",
       "      <td>0</td>\n",
       "      <td>0</td>\n",
       "      <td>0</td>\n",
       "      <td>0</td>\n",
       "      <td>0</td>\n",
       "      <td>0</td>\n",
       "      <td>0</td>\n",
       "      <td>0</td>\n",
       "      <td>0</td>\n",
       "      <td>0</td>\n",
       "      <td>0</td>\n",
       "      <td>0</td>\n",
       "      <td>0</td>\n",
       "      <td>0</td>\n",
       "      <td>0</td>\n",
       "      <td>0</td>\n",
       "      <td>0</td>\n",
       "      <td>0</td>\n",
       "      <td>0</td>\n",
       "      <td>0</td>\n",
       "    </tr>\n",
       "    <tr>\n",
       "      <th>1</th>\n",
       "      <td>13979628</td>\n",
       "      <td>0</td>\n",
       "      <td>0</td>\n",
       "      <td>0</td>\n",
       "      <td>0</td>\n",
       "      <td>0</td>\n",
       "      <td>0</td>\n",
       "      <td>0</td>\n",
       "      <td>0</td>\n",
       "      <td>0</td>\n",
       "      <td>0</td>\n",
       "      <td>0</td>\n",
       "      <td>0</td>\n",
       "      <td>0</td>\n",
       "      <td>1</td>\n",
       "      <td>0</td>\n",
       "      <td>0</td>\n",
       "      <td>0</td>\n",
       "      <td>0</td>\n",
       "      <td>0</td>\n",
       "      <td>0</td>\n",
       "      <td>0</td>\n",
       "      <td>0</td>\n",
       "      <td>0</td>\n",
       "      <td>0</td>\n",
       "      <td>0</td>\n",
       "      <td>0</td>\n",
       "      <td>0</td>\n",
       "      <td>0</td>\n",
       "      <td>0</td>\n",
       "      <td>0</td>\n",
       "      <td>0</td>\n",
       "      <td>0</td>\n",
       "      <td>0</td>\n",
       "      <td>0</td>\n",
       "      <td>0</td>\n",
       "      <td>0</td>\n",
       "      <td>0</td>\n",
       "      <td>0</td>\n",
       "      <td>0</td>\n",
       "      <td>0</td>\n",
       "      <td>0</td>\n",
       "      <td>0</td>\n",
       "      <td>0</td>\n",
       "      <td>0</td>\n",
       "      <td>0</td>\n",
       "      <td>0</td>\n",
       "      <td>0</td>\n",
       "      <td>0</td>\n",
       "      <td>0</td>\n",
       "      <td>0</td>\n",
       "      <td>0</td>\n",
       "    </tr>\n",
       "    <tr>\n",
       "      <th>2</th>\n",
       "      <td>13986414</td>\n",
       "      <td>0</td>\n",
       "      <td>0</td>\n",
       "      <td>0</td>\n",
       "      <td>0</td>\n",
       "      <td>0</td>\n",
       "      <td>0</td>\n",
       "      <td>0</td>\n",
       "      <td>0</td>\n",
       "      <td>1</td>\n",
       "      <td>0</td>\n",
       "      <td>0</td>\n",
       "      <td>0</td>\n",
       "      <td>0</td>\n",
       "      <td>1</td>\n",
       "      <td>0</td>\n",
       "      <td>0</td>\n",
       "      <td>0</td>\n",
       "      <td>0</td>\n",
       "      <td>0</td>\n",
       "      <td>0</td>\n",
       "      <td>0</td>\n",
       "      <td>0</td>\n",
       "      <td>0</td>\n",
       "      <td>0</td>\n",
       "      <td>0</td>\n",
       "      <td>0</td>\n",
       "      <td>0</td>\n",
       "      <td>0</td>\n",
       "      <td>0</td>\n",
       "      <td>0</td>\n",
       "      <td>0</td>\n",
       "      <td>0</td>\n",
       "      <td>0</td>\n",
       "      <td>0</td>\n",
       "      <td>0</td>\n",
       "      <td>0</td>\n",
       "      <td>0</td>\n",
       "      <td>0</td>\n",
       "      <td>0</td>\n",
       "      <td>0</td>\n",
       "      <td>0</td>\n",
       "      <td>0</td>\n",
       "      <td>0</td>\n",
       "      <td>0</td>\n",
       "      <td>0</td>\n",
       "      <td>0</td>\n",
       "      <td>0</td>\n",
       "      <td>0</td>\n",
       "      <td>0</td>\n",
       "      <td>0</td>\n",
       "      <td>0</td>\n",
       "    </tr>\n",
       "    <tr>\n",
       "      <th>3</th>\n",
       "      <td>13994594</td>\n",
       "      <td>0</td>\n",
       "      <td>0</td>\n",
       "      <td>0</td>\n",
       "      <td>0</td>\n",
       "      <td>0</td>\n",
       "      <td>0</td>\n",
       "      <td>0</td>\n",
       "      <td>0</td>\n",
       "      <td>1</td>\n",
       "      <td>0</td>\n",
       "      <td>0</td>\n",
       "      <td>0</td>\n",
       "      <td>0</td>\n",
       "      <td>0</td>\n",
       "      <td>0</td>\n",
       "      <td>0</td>\n",
       "      <td>0</td>\n",
       "      <td>0</td>\n",
       "      <td>0</td>\n",
       "      <td>0</td>\n",
       "      <td>0</td>\n",
       "      <td>0</td>\n",
       "      <td>0</td>\n",
       "      <td>0</td>\n",
       "      <td>0</td>\n",
       "      <td>0</td>\n",
       "      <td>0</td>\n",
       "      <td>0</td>\n",
       "      <td>0</td>\n",
       "      <td>0</td>\n",
       "      <td>0</td>\n",
       "      <td>0</td>\n",
       "      <td>0</td>\n",
       "      <td>0</td>\n",
       "      <td>0</td>\n",
       "      <td>0</td>\n",
       "      <td>0</td>\n",
       "      <td>0</td>\n",
       "      <td>0</td>\n",
       "      <td>0</td>\n",
       "      <td>0</td>\n",
       "      <td>0</td>\n",
       "      <td>0</td>\n",
       "      <td>0</td>\n",
       "      <td>0</td>\n",
       "      <td>0</td>\n",
       "      <td>0</td>\n",
       "      <td>0</td>\n",
       "      <td>0</td>\n",
       "      <td>0</td>\n",
       "      <td>0</td>\n",
       "    </tr>\n",
       "    <tr>\n",
       "      <th>4</th>\n",
       "      <td>13994632</td>\n",
       "      <td>0</td>\n",
       "      <td>0</td>\n",
       "      <td>0</td>\n",
       "      <td>0</td>\n",
       "      <td>0</td>\n",
       "      <td>0</td>\n",
       "      <td>0</td>\n",
       "      <td>0</td>\n",
       "      <td>0</td>\n",
       "      <td>0</td>\n",
       "      <td>0</td>\n",
       "      <td>0</td>\n",
       "      <td>0</td>\n",
       "      <td>0</td>\n",
       "      <td>0</td>\n",
       "      <td>0</td>\n",
       "      <td>0</td>\n",
       "      <td>0</td>\n",
       "      <td>0</td>\n",
       "      <td>0</td>\n",
       "      <td>0</td>\n",
       "      <td>0</td>\n",
       "      <td>0</td>\n",
       "      <td>0</td>\n",
       "      <td>0</td>\n",
       "      <td>0</td>\n",
       "      <td>0</td>\n",
       "      <td>0</td>\n",
       "      <td>0</td>\n",
       "      <td>0</td>\n",
       "      <td>1</td>\n",
       "      <td>0</td>\n",
       "      <td>0</td>\n",
       "      <td>0</td>\n",
       "      <td>0</td>\n",
       "      <td>0</td>\n",
       "      <td>0</td>\n",
       "      <td>0</td>\n",
       "      <td>0</td>\n",
       "      <td>0</td>\n",
       "      <td>0</td>\n",
       "      <td>0</td>\n",
       "      <td>0</td>\n",
       "      <td>0</td>\n",
       "      <td>0</td>\n",
       "      <td>0</td>\n",
       "      <td>0</td>\n",
       "      <td>0</td>\n",
       "      <td>0</td>\n",
       "      <td>0</td>\n",
       "      <td>0</td>\n",
       "    </tr>\n",
       "  </tbody>\n",
       "</table>\n",
       "</div>"
      ],
      "text/plain": [
       "   album_id  Afro Pop  Alternative  Blues  Chanson franÃ§aise  \\\n",
       "0  13972552         0            0      0                   0   \n",
       "1  13979628         0            0      0                   0   \n",
       "2  13986414         0            0      0                   0   \n",
       "3  13994594         0            0      0                   0   \n",
       "4  13994632         0            0      0                   0   \n",
       "\n",
       "   Chill Out/Trip-Hop/Lounge  Classique  ComÃ©dies musicales  Country  Dance  \\\n",
       "0                          0          0                    0        0      1   \n",
       "1                          0          0                    0        0      0   \n",
       "2                          0          0                    0        0      1   \n",
       "3                          0          0                    0        0      1   \n",
       "4                          0          0                    0        0      0   \n",
       "\n",
       "   Dancehall/Ragga  Disco  Dub  East Coast  Electro  Electro Pop/Electro Rock  \\\n",
       "0                0      0    0           0        0                         0   \n",
       "1                0      0    0           0        1                         0   \n",
       "2                0      0    0           0        1                         0   \n",
       "3                0      0    0           0        0                         0   \n",
       "4                0      0    0           0        0                         0   \n",
       "\n",
       "   Films/Jeux vidÃ©o  Folk  Gospel  Hard Rock  Jazz  Jeunesse  Latino  Metal  \\\n",
       "0                  0     0       0          0     0         0       0      0   \n",
       "1                  0     0       0          0     0         0       0      0   \n",
       "2                  0     0       0          0     0         0       0      0   \n",
       "3                  0     0       0          0     0         0       0      0   \n",
       "4                  0     0       0          0     0         0       0      0   \n",
       "\n",
       "   Musique africaine  Musique arabe  Musique brÃ©silienne  Musique religieuse  \\\n",
       "0                  0              0                     0                   0   \n",
       "1                  0              0                     0                   0   \n",
       "2                  0              0                     0                   0   \n",
       "3                  0              0                     0                   0   \n",
       "4                  0              0                     0                   0   \n",
       "\n",
       "   Musiques de films  MÃºsica colombiana  OpÃ©ra  Pop  Pop IndÃ©  \\\n",
       "0                  0                   0       0    0          0   \n",
       "1                  0                   0       0    0          0   \n",
       "2                  0                   0       0    0          0   \n",
       "3                  0                   0       0    0          0   \n",
       "4                  0                   0       0    1          0   \n",
       "\n",
       "   Pop indÃ©/Folk  Pop internationale  Pop latine  R&B  Rap franÃ§ais  \\\n",
       "0               0                   0           0    0              0   \n",
       "1               0                   0           0    0              0   \n",
       "2               0                   0           0    0              0   \n",
       "3               0                   0           0    0              0   \n",
       "4               0                   0           0    0              0   \n",
       "\n",
       "   Rap/Hip Hop  Reggae  Rock  Rock & Roll/Rockabilly  Rock franÃ§ais  \\\n",
       "0            0       0     0                       0               0   \n",
       "1            0       0     0                       0               0   \n",
       "2            0       0     0                       0               0   \n",
       "3            0       0     0                       0               0   \n",
       "4            0       0     0                       0               0   \n",
       "\n",
       "   Rock indÃ©  Singer & Songwriter  Soul  Soul & Funk  Sports  Techno/House  \\\n",
       "0           0                    0     0            0       0             0   \n",
       "1           0                    0     0            0       0             0   \n",
       "2           0                    0     0            0       0             0   \n",
       "3           0                    0     0            0       0             0   \n",
       "4           0                    0     0            0       0             0   \n",
       "\n",
       "   Trance  VariÃ©tÃ© Internationale  World  \n",
       "0       0                         0      0  \n",
       "1       0                         0      0  \n",
       "2       0                         0      0  \n",
       "3       0                         0      0  \n",
       "4       0                         0      0  "
      ]
     },
     "execution_count": 3,
     "metadata": {},
     "output_type": "execute_result"
    }
   ],
   "source": [
    "binarized_df_labels = pd.get_dummies( df_labels , columns=['genre_name'] , prefix=\"\" , prefix_sep=\"\" )\n",
    "df_multi_labels = binarized_df_labels.groupby(['album_id'] , as_index=False ).sum()\n",
    "df_multi_labels.head()"
   ]
  },
  {
   "cell_type": "markdown",
   "metadata": {},
   "source": [
    "#### 2) Table des données spatio-temporelle"
   ]
  },
  {
   "cell_type": "code",
   "execution_count": null,
   "metadata": {
    "collapsed": true
   },
   "outputs": [],
   "source": [
    "df_data_ignoreTime = df_data.groupby(['album_id','loc_city'] , as_index=False )['nstreams','nusers'].sum()\n",
    "df_data_ignoreTime_binarized =  pd.get_dummies( df_data_ignoreTime ,\n",
    "                                               columns=['loc_city'] ,\n",
    "                                               prefix=\"\" , prefix_sep=\"\" ).groupby(['album_id'] ,\n",
    "                                                                                   as_index=False ).sum()\n",
    "df_data_ignoreTime_binarized.head()"
   ]
  },
  {
   "cell_type": "markdown",
   "metadata": {},
   "source": [
    "#### 3) Jointure"
   ]
  },
  {
   "cell_type": "code",
   "execution_count": null,
   "metadata": {
    "collapsed": true
   },
   "outputs": [],
   "source": [
    "final_df = pd.merge(df_data_ignoreTime_binarized , df_multi_labels , on='album_id')\n",
    "print(final_df.shape)\n",
    "final_df.head()"
   ]
  },
  {
   "cell_type": "code",
   "execution_count": null,
   "metadata": {
    "collapsed": true
   },
   "outputs": [],
   "source": [
    "from sklearn import tree\n",
    "from sklearn.model_selection import train_test_split\n",
    "\n",
    "# supprimer l'album_id qui nous intèresse pas\n",
    "data = final_df.values[:,1:]\n",
    "\n",
    "# le -1 c'est a cause de l'album_id \n",
    "features = data [ : , : df_data_ignoreTime_binarized.shape[1] - 1 ]\n",
    "labels  = data [ :  , df_data_ignoreTime_binarized.shape[1] - 1  :  ]"
   ]
  },
  {
   "cell_type": "code",
   "execution_count": null,
   "metadata": {
    "collapsed": true
   },
   "outputs": [],
   "source": [
    "X_train, X_test, y_train, y_test = train_test_split(\n",
    "    features,\n",
    "    labels,\n",
    "    test_size=0.2,\n",
    "    random_state=1234,\n",
    ")"
   ]
  },
  {
   "cell_type": "code",
   "execution_count": null,
   "metadata": {
    "collapsed": true
   },
   "outputs": [],
   "source": [
    "# random_state  : pour fixer les mêmes résultats randoms \n",
    "clf  = tree.DecisionTreeClassifier( criterion='entropy',random_state=1234 )\n",
    "clf.fit(X=X_train, y=y_train)\n",
    "print (\"accuracy of a decision Tree \",clf.score(X=X_test, y=y_test) ) "
   ]
  },
  {
   "cell_type": "code",
   "execution_count": null,
   "metadata": {
    "collapsed": true
   },
   "outputs": [],
   "source": [
    "df_data.sort_values(by=['album_id','d']).head()"
   ]
  },
  {
   "cell_type": "markdown",
   "metadata": {},
   "source": [
    "# Analyse des données"
   ]
  },
  {
   "cell_type": "markdown",
   "metadata": {},
   "source": [
    "1/ Le nombre moyen d'écoute d'un album par genre"
   ]
  },
  {
   "cell_type": "code",
   "execution_count": null,
   "metadata": {
    "collapsed": true
   },
   "outputs": [],
   "source": [
    "df_labelized_data = df_data.join(df_labels.set_index('album_id'),on='album_id')"
   ]
  },
  {
   "cell_type": "code",
   "execution_count": null,
   "metadata": {
    "collapsed": true
   },
   "outputs": [],
   "source": [
    "df_nusers_per_album = df_labelized_data.groupby(['genre_name','album_id']).sum()"
   ]
  },
  {
   "cell_type": "code",
   "execution_count": null,
   "metadata": {
    "collapsed": true
   },
   "outputs": [],
   "source": [
    "df_meanusers_per_genre = df_nusers_per_album.groupby(['genre_name']).mean().reset_index().sort_values(by='nusers')\n",
    "del df_meanusers_per_genre['d']\n",
    "df_meanusers_per_genre.columns=['genre_name','meanstreams','meanusers']"
   ]
  },
  {
   "cell_type": "code",
   "execution_count": null,
   "metadata": {
    "collapsed": true
   },
   "outputs": [],
   "source": [
    "plt.figure(1, figsize=(10, 15))\n",
    "plt.barh(df_meanusers_per_genre['genre_name'],df_meanusers_per_genre['meanusers'])\n",
    "plt.show()"
   ]
  },
  {
   "cell_type": "code",
   "execution_count": null,
   "metadata": {
    "collapsed": true
   },
   "outputs": [],
   "source": [
    "df_meanusers_per_genre.tail()"
   ]
  },
  {
   "cell_type": "code",
   "execution_count": null,
   "metadata": {
    "collapsed": true
   },
   "outputs": [],
   "source": [
    "df_meanusers_per_genre.head()"
   ]
  },
  {
   "cell_type": "markdown",
   "metadata": {},
   "source": [
    "2/ Les top genres par age"
   ]
  },
  {
   "cell_type": "code",
   "execution_count": null,
   "metadata": {
    "collapsed": true
   },
   "outputs": [],
   "source": [
    "df_nusers_per_agegroup = df_labelized_data.groupby(['age_group','genre_name']).sum()\n",
    "del df_nusers_per_agegroup['d']\n",
    "del df_nusers_per_agegroup['album_id']"
   ]
  },
  {
   "cell_type": "code",
   "execution_count": null,
   "metadata": {
    "collapsed": true
   },
   "outputs": [],
   "source": [
    "best_1518_genres = df_nusers_per_agegroup.loc['15-18'].sort_values(by=['nusers'],ascending=False).head()"
   ]
  },
  {
   "cell_type": "code",
   "execution_count": null,
   "metadata": {
    "collapsed": true
   },
   "outputs": [],
   "source": [
    "best_1518_genres"
   ]
  },
  {
   "cell_type": "code",
   "execution_count": null,
   "metadata": {
    "collapsed": true
   },
   "outputs": [],
   "source": [
    "best_more55_genres = df_nusers_per_agegroup.loc['>55'].sort_values(by=['nusers'],ascending=False).head()"
   ]
  },
  {
   "cell_type": "code",
   "execution_count": null,
   "metadata": {
    "collapsed": true
   },
   "outputs": [],
   "source": [
    "best_more55_genres"
   ]
  },
  {
   "cell_type": "markdown",
   "metadata": {},
   "source": [
    "3/ Le top des ages par genre"
   ]
  },
  {
   "cell_type": "code",
   "execution_count": null,
   "metadata": {
    "collapsed": true
   },
   "outputs": [],
   "source": [
    "df_nusers_per_genre_age = df_labelized_data.groupby(['genre_name','age_group']).sum()\n",
    "del df_nusers_per_genre_age['d']\n",
    "del df_nusers_per_genre_age['album_id']"
   ]
  },
  {
   "cell_type": "code",
   "execution_count": null,
   "metadata": {
    "collapsed": true
   },
   "outputs": [],
   "source": [
    "df_nusers_per_genre_age.loc['Rap/Hip Hop'].sort_values(by='nusers',ascending=False).head()"
   ]
  },
  {
   "cell_type": "code",
   "execution_count": null,
   "metadata": {
    "collapsed": true
   },
   "outputs": [],
   "source": [
    "df_nusers_per_genre_age.loc['Pop latine'].sort_values(by='nusers',ascending=False).head()"
   ]
  },
  {
   "cell_type": "markdown",
   "metadata": {},
   "source": [
    "4/ Top genres par ville"
   ]
  },
  {
   "cell_type": "code",
   "execution_count": null,
   "metadata": {
    "collapsed": true
   },
   "outputs": [],
   "source": [
    "df_nusers_per_genre_ville = df_labelized_data.groupby(['loc_city','genre_name']).sum()\n",
    "del df_nusers_per_genre_ville['d']\n",
    "del df_nusers_per_genre_ville['album_id']"
   ]
  },
  {
   "cell_type": "code",
   "execution_count": null,
   "metadata": {
    "collapsed": true
   },
   "outputs": [],
   "source": [
    "df_nusers_per_genre_ville.loc['Paris'].sort_values(by='nusers',ascending=False).head()"
   ]
  },
  {
   "cell_type": "code",
   "execution_count": null,
   "metadata": {
    "collapsed": true
   },
   "outputs": [],
   "source": [
    "df_nusers_per_genre_ville.loc['Marseille'].sort_values(by='nusers',ascending=False).head()"
   ]
  },
  {
   "cell_type": "markdown",
   "metadata": {},
   "source": [
    "# Transformation des données"
   ]
  },
  {
   "cell_type": "code",
   "execution_count": null,
   "metadata": {
    "collapsed": true
   },
   "outputs": [],
   "source": [
    "def transformAlbumData(data, nbTemps, nbJours):\n",
    "    "
   ]
  },
  {
   "cell_type": "code",
   "execution_count": null,
   "metadata": {
    "collapsed": true
   },
   "outputs": [],
   "source": [
    "pd.to_datetime('20160520', format='%Y%m%d', errors='ignore')+pd.Timedelta(days=14)"
   ]
  },
  {
   "cell_type": "code",
   "execution_count": null,
   "metadata": {
    "collapsed": true
   },
   "outputs": [],
   "source": [
    "for i in range(len(df_data)):\n",
    "    print(i)\n",
    "    df_data.iloc[i] = pd.to_datetime(df_data.iloc[i], format='%Y%m%d', errors='ignore')"
   ]
  },
  {
   "cell_type": "code",
   "execution_count": null,
   "metadata": {
    "collapsed": true
   },
   "outputs": [],
   "source": [
    "df_data"
   ]
  }
 ],
 "metadata": {
  "kernelspec": {
   "display_name": "Python 3",
   "language": "python",
   "name": "python3"
  },
  "language_info": {
   "codemirror_mode": {
    "name": "ipython",
    "version": 3
   },
   "file_extension": ".py",
   "mimetype": "text/x-python",
   "name": "python",
   "nbconvert_exporter": "python",
   "pygments_lexer": "ipython3",
   "version": "3.6.3"
  }
 },
 "nbformat": 4,
 "nbformat_minor": 2
}
